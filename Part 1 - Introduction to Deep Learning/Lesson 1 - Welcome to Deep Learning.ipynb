{
 "cells": [
  {
   "cell_type": "markdown",
   "metadata": {
    "slideshow": {
     "slide_type": "slide"
    }
   },
   "source": [
    "# Welcome to Deep Learning"
   ]
  },
  {
   "cell_type": "markdown",
   "metadata": {
    "slideshow": {
     "slide_type": "subslide"
    }
   },
   "source": [
    "Deep Learning is the driving force behind the very latest in Artificial Intelligence applications, from object identification and tracking in images, voice recognition, game playing and much much more. You'll find Deep Learning being used more and more in everyday applications, from the recommender system in Netflix or Youtube to the algorithms that drive Alexa or Siri."
   ]
  },
  {
   "cell_type": "markdown",
   "metadata": {
    "slideshow": {
     "slide_type": "slide"
    }
   },
   "source": [
    "We'll now play with some examples to show off some of the cool things Deep Learning can achieve"
   ]
  },
  {
   "cell_type": "markdown",
   "metadata": {
    "slideshow": {
     "slide_type": "slide"
    }
   },
   "source": [
    "## Fast Style Transfer\n",
    "Available from the github repo here: https://github.com/lengstrom/fast-style-transfer\n",
    "\n",
    "We are able to transform any image to have the *style* of another image using a neural network. Using the pre-trained networks, it is possible to transform an image into a number of styles quickly. For example, see how Sora, Mickey Mouse and Sephiroth have been transformed using the *rain_princess* and the *wave* network checkpoints:\n",
    "\n",
    "Normal                                                    |  Wave                     |  Rain Princess\n",
    ":--------------------------------------------------------:|:-------------------------: | :-------------------\n",
    "<img src=\"images/sora.jpg\" alt=\"drawing\" width=\"200px\"/>  | <img src=\"images/output/sora_wave.jpg\" alt=\"drawing\" width=\"200px\"/>  |  <img src=\"images/output/sora_rain_princess.jpg\" alt=\"drawing\" width=\"200px\"/>\n",
    "<img src=\"images/sephiroth.jpg\" alt=\"drawing\" width=\"200px\"/>  | <img src=\"images/output/sephiroth_wave.jpg\" alt=\"drawing\" width=\"200px\"/>  |  <img src=\"images/output/sephiroth_rain_princess.jpg\" alt=\"drawing\" width=\"200px\"/>\n",
    "<img src=\"images/mickeymouse.jpg\" alt=\"drawing\" width=\"200px\"/>  | <img src=\"images/output/mickeymouse_wave.jpg\" alt=\"drawing\" width=\"200px\"/>  |  <img src=\"images/output/mickeymouse_rain_princess.jpg\" alt=\"drawing\" width=\"200px\"/>"
   ]
  },
  {
   "cell_type": "markdown",
   "metadata": {
    "slideshow": {
     "slide_type": "slide"
    }
   },
   "source": [
    "## Deep Traffic\n",
    "https://selfdrivingcars.mit.edu/deeptraffic/\n",
    "\n",
    "A simulator that shows off how deep reinforcement learning can be used to train an autonomous vehicle to navigate quickly through traffic"
   ]
  },
  {
   "cell_type": "markdown",
   "metadata": {
    "slideshow": {
     "slide_type": "slide"
    }
   },
   "source": [
    "## Flappy Bird\n",
    "Available from the github repo here: https://github.com/yenchenlin/DeepLearningFlappyBird\n",
    "\n",
    "Train an AI agent to play the game flappy bird using Deep Q Networks"
   ]
  },
  {
   "cell_type": "code",
   "execution_count": null,
   "metadata": {
    "collapsed": true,
    "slideshow": {
     "slide_type": "skip"
    }
   },
   "outputs": [],
   "source": []
  }
 ],
 "metadata": {
  "kernelspec": {
   "display_name": "Python [conda env:DLNano]",
   "language": "python",
   "name": "conda-env-DLNano-py"
  },
  "language_info": {
   "codemirror_mode": {
    "name": "ipython",
    "version": 3
   },
   "file_extension": ".py",
   "mimetype": "text/x-python",
   "name": "python",
   "nbconvert_exporter": "python",
   "pygments_lexer": "ipython3",
   "version": "3.6.6"
  }
 },
 "nbformat": 4,
 "nbformat_minor": 2
}
